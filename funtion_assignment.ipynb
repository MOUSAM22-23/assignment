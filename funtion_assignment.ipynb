{
 "cells": [
  {
   "cell_type": "code",
   "execution_count": 5,
   "id": "40c15651",
   "metadata": {},
   "outputs": [
    {
     "name": "stdout",
     "output_type": "stream",
     "text": [
      "[1, 3, 5, 7, 9, 11, 13, 15, 17, 19, 21, 23]\n"
     ]
    }
   ],
   "source": [
    "##Question =1\n",
    "## the (def) keyword is used to create a function\n",
    "def odd1():\n",
    "    l=[]\n",
    "    for i in range(25):\n",
    "        if i%2!=0:\n",
    "            l.append(i)\n",
    "    return l\n",
    "l1=odd1()\n",
    "print(l1)\n",
    "        \n",
    "        \n",
    "        \n",
    "    \n",
    "\n"
   ]
  },
  {
   "cell_type": "code",
   "execution_count": 22,
   "id": "6775949e",
   "metadata": {},
   "outputs": [
    {
     "name": "stdout",
     "output_type": "stream",
     "text": [
      "hello\n",
      "welcome\n",
      "to\n",
      "pwskills\n",
      "value of *args value of args1\n",
      "mosuam\n",
      "welocome\n",
      "to \n",
      "my\n",
      "home\n",
      "= ('first', 'Geeks')\n",
      "= ('mid', 'for')\n"
     ]
    }
   ],
   "source": [
    "## Question =2\n",
    "# *args enable us to pass the variable number of non-keyword arguments to functions,\n",
    "#**kwargs allows us to pass any number of keyword arguments.\n",
    "\n",
    "\n",
    "## *args\n",
    "def mousam(*args):\n",
    "    for i in args:\n",
    "        print(i)\n",
    "\n",
    "mousam('hello','welcome','to','pwskills')\n",
    "\n",
    "def mousam2(*args,args1):\n",
    "    print(\"value of *args\",\"value of args1\")\n",
    "    for i in args:\n",
    "        print(i)\n",
    "mousam2(\"mosuam\",\"welocome\",\"to \", \"my\",\"home\" ,args1= \"mousam\")\n",
    "\n",
    "\n",
    "\n",
    "\n",
    "##**kwargs\n",
    "\n",
    "def mousam3(arg1,**kwargs):\n",
    "    for key,value in kwargs.items():\n",
    "        print(\"=\",(key,value))\n",
    "mousam3(\"hi\",first='Geeks',mid='for')\n",
    "\n",
    "\n",
    "\n"
   ]
  },
  {
   "cell_type": "code",
   "execution_count": 38,
   "id": "f370393f",
   "metadata": {},
   "outputs": [
    {
     "name": "stdout",
     "output_type": "stream",
     "text": [
      "List Iteration\n",
      "2\n",
      "4\n",
      "6\n",
      "8\n",
      "10\n",
      "12\n",
      "14\n",
      "16\n",
      "18\n",
      "20\n"
     ]
    }
   ],
   "source": [
    "##Question 3\n",
    "##In Python, an iterator is an object that allows you to iterate over collections of data, such as lists, tuples, dictionaries, and sets.he iter() method is used to initialize the iterator object. Iteration is accomplished through the usage of the next() method. Python iterator implements the iterator protocol, which includes two special methods: __iter__() and __next__().\n",
    "int\n",
    "print(\"List Iteration\")\n",
    "l = [2, 4, 6, 8, 10, 12, 14,\n",
    "16, 18, 20]\n",
    "for i in l:\n",
    "    print(i)"
   ]
  },
  {
   "cell_type": "code",
   "execution_count": 3,
   "id": "54bb8c23",
   "metadata": {},
   "outputs": [
    {
     "name": "stdout",
     "output_type": "stream",
     "text": [
      "1\n",
      "2\n",
      "3\n"
     ]
    }
   ],
   "source": [
    "##Question 4\n",
    "\n",
    "\n",
    "##A Python generator function allows you to declare a function that behaves like an iterator, providing a faster and easier way to create iterators\n",
    "##The yield keyword pauses generator function execution and the value of the expression following the yield keyword is returned to the generator's caller.\n",
    "def simpleGeneratorFun(): \n",
    "    yield 1            \n",
    "    yield 2            \n",
    "    yield 3            \n",
    "for value in simpleGeneratorFun():  \n",
    "    print(value)"
   ]
  },
  {
   "cell_type": "code",
   "execution_count": 5,
   "id": "5f534477",
   "metadata": {},
   "outputs": [
    {
     "name": "stdout",
     "output_type": "stream",
     "text": [
      "2\n",
      "3\n",
      "5\n",
      "7\n",
      "11\n",
      "13\n",
      "17\n",
      "19\n",
      "23\n",
      "29\n",
      "31\n",
      "37\n",
      "41\n",
      "43\n",
      "47\n",
      "53\n",
      "59\n",
      "61\n",
      "67\n",
      "71\n"
     ]
    }
   ],
   "source": [
    "\n",
    "## question 5\n",
    "#a generator function for prime numbers less than 1000. Use the next() method to print the first 20 prime numbers.\n",
    "def primes():\n",
    "    \"\"\"Create a generator function for prime numbers less than 1000.\"\"\"\n",
    "    yield 2\n",
    "    primes_list = [2]\n",
    "    for i in range(3, 1000):\n",
    "        is_prime = True\n",
    "        for prime in primes_list:\n",
    "            if i % prime == 0:\n",
    "                is_prime = False\n",
    "                break\n",
    "        if is_prime:\n",
    "            primes_list.append(i)\n",
    "            yield i\n",
    "\n",
    "prime_gen = primes()\n",
    "# the next() method to print the first 20 prime numbers.\n",
    "for i in range(20):\n",
    "    print(next(prime_gen))\n"
   ]
  },
  {
   "cell_type": "code",
   "execution_count": 39,
   "id": "fdd02560",
   "metadata": {},
   "outputs": [
    {
     "name": "stdout",
     "output_type": "stream",
     "text": [
      "34\n"
     ]
    }
   ],
   "source": [
    "# Question 6\n",
    "\"\"\"this is use for find fibo up to 10\"\"\"\n",
    "\n",
    "def fibo():\n",
    "    \"\"\"this is use for find fibo up to 10\"\"\"\n",
    "    first=0\n",
    "    second=1\n",
    "    i=0\n",
    "    while i<(8):\n",
    "        ans=first+second\n",
    "        first=second\n",
    "        second=ans\n",
    "        i =i+1\n",
    "    print(ans)\n",
    "fibo()\n"
   ]
  },
  {
   "cell_type": "code",
   "execution_count": 42,
   "id": "5968eb71",
   "metadata": {},
   "outputs": [
    {
     "name": "stdout",
     "output_type": "stream",
     "text": [
      "['p', 'w', 's', 'k', 'i', 'l', 'l', 's']\n"
     ]
    }
   ],
   "source": [
    "#Question 7\n",
    "\n",
    "## \n",
    "st=\"pwskills\"\n",
    "l=[]\n",
    "for i in st:\n",
    "    l.append(i)\n",
    "print(l)\n",
    "    \n",
    "    "
   ]
  },
  {
   "cell_type": "code",
   "execution_count": 44,
   "id": "6cb0f96f",
   "metadata": {},
   "outputs": [
    {
     "name": "stdout",
     "output_type": "stream",
     "text": [
      "enter the stringmousam\n",
      "Not a palindrome\n"
     ]
    }
   ],
   "source": [
    "#Question8\n",
    "string=input((\"enter the string\"))\n",
    "if(string==string[::-1]):\n",
    "      print(\"The string is a palindrome\")\n",
    "else:\n",
    "      print(\"Not a palindrome\")"
   ]
  },
  {
   "cell_type": "code",
   "execution_count": 4,
   "id": "d7eca4f9",
   "metadata": {},
   "outputs": [
    {
     "name": "stdout",
     "output_type": "stream",
     "text": [
      "[1, 3, 5, 7, 9, 11, 13, 15, 17, 19, 21, 23, 25, 27, 29, 31, 33, 35, 37, 39, 41, 43, 45, 47, 49, 51, 53, 55, 57, 59, 61, 63, 65, 67, 69, 71, 73, 75, 77, 79, 81, 83, 85, 87, 89, 91, 93, 95, 97, 99]\n"
     ]
    }
   ],
   "source": [
    "##Question 9\n",
    "odd_list =[element for element in range(1,101) if element %2==1]\n",
    "print(odd_list)"
   ]
  },
  {
   "cell_type": "code",
   "execution_count": null,
   "id": "98db0394",
   "metadata": {},
   "outputs": [],
   "source": []
  }
 ],
 "metadata": {
  "kernelspec": {
   "display_name": "Python 3 (ipykernel)",
   "language": "python",
   "name": "python3"
  },
  "language_info": {
   "codemirror_mode": {
    "name": "ipython",
    "version": 3
   },
   "file_extension": ".py",
   "mimetype": "text/x-python",
   "name": "python",
   "nbconvert_exporter": "python",
   "pygments_lexer": "ipython3",
   "version": "3.11.5"
  }
 },
 "nbformat": 4,
 "nbformat_minor": 5
}
