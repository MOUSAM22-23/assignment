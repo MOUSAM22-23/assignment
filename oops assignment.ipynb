{
 "cells": [
  {
   "cell_type": "code",
   "execution_count": 2,
   "id": "416f0d3a",
   "metadata": {},
   "outputs": [],
   "source": [
    "##Q1. Explain Class and Object with respect to Object-Oriented Programming. Give a suitable example.\n",
    "\n",
    "## A class is a user-defined blueprint or prototype from which objects are created. Classes provide a means of bundling data and functionality together. Creating a new class creates a new type of object, allowing new instances of that type to be made. Each class instance can have attributes attached to it for maintaining its state. Class instances can also have methods (defined by their class) for modifying their state.Syntax: Class Definition\n",
    "\n",
    "class ClassName:\n",
    "    dog= \"name\""
   ]
  },
  {
   "cell_type": "code",
   "execution_count": 3,
   "id": "09010925",
   "metadata": {},
   "outputs": [],
   "source": [
    "##Q2. Name the four pillars of OOPs.\n",
    "\n",
    " ##{Inheritance, Polymorphism, Encapsulation, and Abstraction}"
   ]
  },
  {
   "cell_type": "code",
   "execution_count": 4,
   "id": "83f7400a",
   "metadata": {},
   "outputs": [
    {
     "name": "stdout",
     "output_type": "stream",
     "text": [
      "Hello, my name is Nikhil\n"
     ]
    }
   ],
   "source": [
    "##Q3 Q3. Explain why the __init__() function is used. Give a suitable example.\n",
    "\n",
    "##_init__ method in Python is used to initialize objects of a class.\n",
    "\n",
    "#example\n",
    "class Person:\n",
    " \n",
    "    # init method or constructor\n",
    "    def __init__(self, name):\n",
    "        self.name = name\n",
    "        \n",
    "    def say_hi(self):\n",
    "        print('Hello, my name is', self.name)\n",
    " \n",
    " \n",
    "p = Person('Nikhil')\n",
    " \n",
    "p.say_hi()\n"
   ]
  },
  {
   "cell_type": "code",
   "execution_count": 5,
   "id": "35b5f605",
   "metadata": {},
   "outputs": [],
   "source": [
    "\n",
    "#Question 4\n",
    "\n",
    "##Why self is used in OOPs?\n",
    "\n",
    "##The self variable is used to represent the instance of the class which is often used in object-oriented programming. It works as a reference to the object. Python uses the self parameter to refer to instance attributes and methods of the class"
   ]
  },
  {
   "cell_type": "code",
   "execution_count": 7,
   "id": "5cd1b259",
   "metadata": {},
   "outputs": [
    {
     "ename": "IndentationError",
     "evalue": "unindent does not match any outer indentation level (<tokenize>, line 14)",
     "output_type": "error",
     "traceback": [
      "\u001b[1;36m  File \u001b[1;32m<tokenize>:14\u001b[1;36m\u001b[0m\n\u001b[1;33m    class Child(Parent):\u001b[0m\n\u001b[1;37m    ^\u001b[0m\n\u001b[1;31mIndentationError\u001b[0m\u001b[1;31m:\u001b[0m unindent does not match any outer indentation level\n"
     ]
    }
   ],
   "source": [
    "## Question 5\n",
    "## What is inheritance? Give an example for each type of inheritance.\n",
    "\n",
    "##Inheritance is defined as the mechanism of inheriting the properties of the base class to the child class. Here we a going to see the types of inheritance in Python.\n",
    "\n",
    "## example\n",
    "class Parent:\n",
    "    def func1(self):\n",
    "        print(\"This function is in parent class.\")\n",
    " \n",
    "# Derived class\n",
    " \n",
    " \n",
    " class Child(Parent):\n",
    "    def func2(self):\n",
    "        print(\"This function is in child class.\")\n",
    " \n",
    " \n",
    "# Driver's code\n",
    "object = Child()\n",
    "object.func1()\n",
    "object.func2()\n"
   ]
  },
  {
   "cell_type": "code",
   "execution_count": null,
   "id": "82edd8ef",
   "metadata": {},
   "outputs": [],
   "source": []
  }
 ],
 "metadata": {
  "kernelspec": {
   "display_name": "Python 3 (ipykernel)",
   "language": "python",
   "name": "python3"
  },
  "language_info": {
   "codemirror_mode": {
    "name": "ipython",
    "version": 3
   },
   "file_extension": ".py",
   "mimetype": "text/x-python",
   "name": "python",
   "nbconvert_exporter": "python",
   "pygments_lexer": "ipython3",
   "version": "3.11.5"
  }
 },
 "nbformat": 4,
 "nbformat_minor": 5
}
